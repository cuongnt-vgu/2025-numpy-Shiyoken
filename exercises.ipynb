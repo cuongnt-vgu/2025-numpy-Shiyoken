{
 "cells": [
  {
   "cell_type": "code",
   "execution_count": 1,
   "metadata": {},
   "outputs": [
    {
     "name": "stdout",
     "output_type": "stream",
     "text": [
      "Setup Complete\n"
     ]
    }
   ],
   "source": [
    "# Importing dependencies\n",
    "\n",
    "from learntools.core import binder\n",
    "import numpy as np\n",
    "\n",
    "binder.bind(globals())\n",
    "\n",
    "from learntools_ex import *\n",
    "\n",
    "print(\"Setup Complete\")"
   ]
  },
  {
   "cell_type": "markdown",
   "metadata": {},
   "source": [
    "## **Questions**"
   ]
  },
  {
   "cell_type": "markdown",
   "metadata": {},
   "source": [
    "### **IMPORTANT**: You **don't** have to delete any `q{n}.check()` or `q{n}.hint()` or `q{n}_sol = question_{n}()`. Please make sure that the function name and function signature match the question and the example given. Additionally, all functions should be runnable or your solution will not be evaluated."
   ]
  },
  {
   "cell_type": "markdown",
   "metadata": {},
   "source": [
    "## **Q1:** Create a one-dimensional NumPy array of the numbers from 5 to 905, counting by 10?"
   ]
  },
  {
   "cell_type": "code",
   "execution_count": 2,
   "metadata": {},
   "outputs": [
    {
     "data": {
      "application/javascript": "parent.postMessage({\"jupyterEvent\": \"custom.exercise_interaction\", \"data\": {\"outcomeType\": 1, \"valueTowardsCompletion\": 0.05, \"interactionType\": 1, \"questionType\": 1, \"questionId\": \"1_Exercise1\", \"failureMessage\": \"\", \"exceptionClass\": \"\", \"trace\": \"\"}}, \"*\")",
      "text/plain": [
       "<IPython.core.display.Javascript object>"
      ]
     },
     "metadata": {},
     "output_type": "display_data"
    },
    {
     "data": {
      "text/markdown": [
       "<span style=\"color:#33cc33\">Correct</span>"
      ],
      "text/plain": [
       "Correct"
      ]
     },
     "metadata": {},
     "output_type": "display_data"
    }
   ],
   "source": [
    "def question_1():\n",
    "    return np.arange(5, 905, 10)\n",
    "\n",
    "\n",
    "q1_sol = question_1()\n",
    "q1.check()"
   ]
  },
  {
   "cell_type": "markdown",
   "metadata": {},
   "source": [
    "## **Q2**: Create the same NumPy array using a Python range and a list? (Hint: create a list)"
   ]
  },
  {
   "cell_type": "code",
   "execution_count": 7,
   "metadata": {},
   "outputs": [
    {
     "data": {
      "application/javascript": "parent.postMessage({\"jupyterEvent\": \"custom.exercise_interaction\", \"data\": {\"outcomeType\": 2, \"failureMessage\": \"Incorrect value for `q2_sol`: `array([1, 2, 4, 5, 2, 9])`\", \"interactionType\": 1, \"questionType\": 1, \"questionId\": \"2_Exercise2\", \"valueTowardsCompletion\": 0.0, \"exceptionClass\": \"\", \"trace\": \"\"}}, \"*\")",
      "text/plain": [
       "<IPython.core.display.Javascript object>"
      ]
     },
     "metadata": {},
     "output_type": "display_data"
    },
    {
     "data": {
      "text/markdown": [
       "<span style=\"color:#cc3333\">Incorrect:</span> Incorrect value for `q2_sol`: `array([1, 2, 4, 5, 2, 9])`"
      ],
      "text/plain": [
       "Incorrect: Incorrect value for `q2_sol`: `array([1, 2, 4, 5, 2, 9])`"
      ]
     },
     "metadata": {},
     "output_type": "display_data"
    }
   ],
   "source": [
    "def question_2():\n",
    "    return np.array([1, 2, 4, 5, 2, 9])\n",
    "    raise NotImplementedError\n",
    "\n",
    "\n",
    "q2_sol = question_2()\n",
    "q2.check()"
   ]
  },
  {
   "cell_type": "markdown",
   "metadata": {},
   "source": [
    "## **Q3**: How might you create a NumPy array of the capital letters, A-Z? (Hint: Ever heard of string.ascii_uppercase?)"
   ]
  },
  {
   "cell_type": "code",
   "execution_count": 9,
   "metadata": {},
   "outputs": [
    {
     "data": {
      "application/javascript": "parent.postMessage({\"jupyterEvent\": \"custom.exercise_interaction\", \"data\": {\"outcomeType\": 1, \"valueTowardsCompletion\": 0.05, \"interactionType\": 1, \"questionType\": 1, \"questionId\": \"3_Exercise3\", \"failureMessage\": \"\", \"exceptionClass\": \"\", \"trace\": \"\"}}, \"*\")",
      "text/plain": [
       "<IPython.core.display.Javascript object>"
      ]
     },
     "metadata": {},
     "output_type": "display_data"
    },
    {
     "data": {
      "text/markdown": [
       "<span style=\"color:#33cc33\">Correct</span>"
      ],
      "text/plain": [
       "Correct"
      ]
     },
     "metadata": {},
     "output_type": "display_data"
    }
   ],
   "source": [
    "import string\n",
    "def question_3():\n",
    "    upper_case = list(string.ascii_uppercase)\n",
    "    str_arr = np.array(upper_case)\n",
    "    return str_arr\n",
    "    raise NotImplementedError\n",
    "\n",
    "\n",
    "q3_sol = question_3()\n",
    "q3.check()"
   ]
  },
  {
   "cell_type": "markdown",
   "metadata": {},
   "source": [
    "## **Q4**: Create a ten-element NumPy array object of all zeros and a six-element NumPy array object of all ones."
   ]
  },
  {
   "cell_type": "code",
   "execution_count": 11,
   "metadata": {},
   "outputs": [
    {
     "data": {
      "application/javascript": "parent.postMessage({\"jupyterEvent\": \"custom.exercise_interaction\", \"data\": {\"outcomeType\": 1, \"valueTowardsCompletion\": 0.05, \"interactionType\": 1, \"questionType\": 1, \"questionId\": \"4_Exercise4\", \"failureMessage\": \"\", \"exceptionClass\": \"\", \"trace\": \"\"}}, \"*\")",
      "text/plain": [
       "<IPython.core.display.Javascript object>"
      ]
     },
     "metadata": {},
     "output_type": "display_data"
    },
    {
     "data": {
      "text/markdown": [
       "<span style=\"color:#33cc33\">Correct</span>"
      ],
      "text/plain": [
       "Correct"
      ]
     },
     "metadata": {},
     "output_type": "display_data"
    }
   ],
   "source": [
    "def question_4() -> tuple:\n",
    "    sol_1 = np.zeros(10)\n",
    "    sol_2 = np.ones(6)\n",
    "    return (sol_1, sol_2)\n",
    "    raise NotImplementedError\n",
    "\n",
    "q4_sol_1, q4_sol_2 = question_4()\n",
    "q4.check()"
   ]
  },
  {
   "cell_type": "markdown",
   "metadata": {},
   "source": [
    "## **Q5**: Given an 2-D array, print the third column."
   ]
  },
  {
   "cell_type": "code",
   "execution_count": 12,
   "metadata": {},
   "outputs": [
    {
     "data": {
      "application/javascript": "parent.postMessage({\"jupyterEvent\": \"custom.exercise_interaction\", \"data\": {\"outcomeType\": 1, \"valueTowardsCompletion\": 0.05, \"interactionType\": 1, \"questionType\": 1, \"questionId\": \"5_Exercise5\", \"failureMessage\": \"\", \"exceptionClass\": \"\", \"trace\": \"\"}}, \"*\")",
      "text/plain": [
       "<IPython.core.display.Javascript object>"
      ]
     },
     "metadata": {},
     "output_type": "display_data"
    },
    {
     "data": {
      "text/markdown": [
       "<span style=\"color:#33cc33\">Correct</span>"
      ],
      "text/plain": [
       "Correct"
      ]
     },
     "metadata": {},
     "output_type": "display_data"
    }
   ],
   "source": [
    "input = np.array([[11, 22, 33], [44, 55, 66], [77, 88, 99]])\n",
    "\n",
    "\n",
    "def question_5(input):\n",
    "    return input[:, 2]\n",
    "    raise NotImplementedError\n",
    "\n",
    "\n",
    "q5_sol = question_5(input)\n",
    "q5.check()"
   ]
  },
  {
   "cell_type": "markdown",
   "metadata": {},
   "source": [
    "## **Q6**: Create an array of the shape (3, 4), filled with 64-bit integer zeros."
   ]
  },
  {
   "cell_type": "code",
   "execution_count": 13,
   "metadata": {},
   "outputs": [
    {
     "data": {
      "application/javascript": "parent.postMessage({\"jupyterEvent\": \"custom.exercise_interaction\", \"data\": {\"outcomeType\": 1, \"valueTowardsCompletion\": 0.05, \"interactionType\": 1, \"questionType\": 1, \"questionId\": \"6_Exercise6\", \"failureMessage\": \"\", \"exceptionClass\": \"\", \"trace\": \"\"}}, \"*\")",
      "text/plain": [
       "<IPython.core.display.Javascript object>"
      ]
     },
     "metadata": {},
     "output_type": "display_data"
    },
    {
     "data": {
      "text/markdown": [
       "<span style=\"color:#33cc33\">Correct</span>"
      ],
      "text/plain": [
       "Correct"
      ]
     },
     "metadata": {},
     "output_type": "display_data"
    }
   ],
   "source": [
    "def question_6():\n",
    "    return np.zeros((3, 4), dtype = 'int64')\n",
    "    raise NotImplementedError\n",
    "\n",
    "\n",
    "q6_sol = question_6()\n",
    "q6.check()"
   ]
  },
  {
   "cell_type": "markdown",
   "metadata": {},
   "source": [
    "## **Q7**: Split an array into 3 equal-sized sub-arrays."
   ]
  },
  {
   "cell_type": "code",
   "execution_count": 14,
   "metadata": {},
   "outputs": [
    {
     "data": {
      "application/javascript": "parent.postMessage({\"jupyterEvent\": \"custom.exercise_interaction\", \"data\": {\"outcomeType\": 1, \"valueTowardsCompletion\": 0.05, \"interactionType\": 1, \"questionType\": 1, \"questionId\": \"7_Exercise7\", \"failureMessage\": \"\", \"exceptionClass\": \"\", \"trace\": \"\"}}, \"*\")",
      "text/plain": [
       "<IPython.core.display.Javascript object>"
      ]
     },
     "metadata": {},
     "output_type": "display_data"
    },
    {
     "data": {
      "text/markdown": [
       "<span style=\"color:#33cc33\">Correct</span>"
      ],
      "text/plain": [
       "Correct"
      ]
     },
     "metadata": {},
     "output_type": "display_data"
    }
   ],
   "source": [
    "input = np.arange(7, 34, 1).reshape(9, 3)\n",
    "\n",
    "\n",
    "\n",
    "def question_7(input):\n",
    "    input = np.arange(7, 34, 1).reshape(9, 3)\n",
    "    sol_1, sol_2, sol_3 = np.split(input, 3)\n",
    "    return (sol_1, sol_2, sol_3)\n",
    "    raise NotImplementedError\n",
    "\n",
    "\n",
    "q7_sol_1, q7_sol_2, q7_sol_3 = question_7(input)\n",
    "q7.check()"
   ]
  },
  {
   "cell_type": "markdown",
   "metadata": {},
   "source": [
    "## **Q8**: Return the last 2 elements by each of the first rows of the (3,4) array. "
   ]
  },
  {
   "cell_type": "code",
   "execution_count": 15,
   "metadata": {},
   "outputs": [
    {
     "data": {
      "application/javascript": "parent.postMessage({\"jupyterEvent\": \"custom.exercise_interaction\", \"data\": {\"outcomeType\": 1, \"valueTowardsCompletion\": 0.05, \"interactionType\": 1, \"questionType\": 1, \"questionId\": \"8_Exercise8\", \"failureMessage\": \"\", \"exceptionClass\": \"\", \"trace\": \"\"}}, \"*\")",
      "text/plain": [
       "<IPython.core.display.Javascript object>"
      ]
     },
     "metadata": {},
     "output_type": "display_data"
    },
    {
     "data": {
      "text/markdown": [
       "<span style=\"color:#33cc33\">Correct</span>"
      ],
      "text/plain": [
       "Correct"
      ]
     },
     "metadata": {},
     "output_type": "display_data"
    }
   ],
   "source": [
    "input = np.arange(1, 13, 1).reshape(3, 4)\n",
    "\n",
    "\n",
    "def question_8(input):\n",
    "    return input[:2, -2:]\n",
    "    raise NotImplementedError\n",
    "\n",
    "\n",
    "q8_sol = question_8(input)\n",
    "q8.check()"
   ]
  },
  {
   "cell_type": "markdown",
   "metadata": {},
   "source": [
    "## **Q9**: Return how many elements are greater than 5 in an array."
   ]
  },
  {
   "cell_type": "code",
   "execution_count": null,
   "metadata": {},
   "outputs": [
    {
     "data": {
      "application/javascript": "parent.postMessage({\"jupyterEvent\": \"custom.exercise_interaction\", \"data\": {\"outcomeType\": 1, \"valueTowardsCompletion\": 0.05, \"interactionType\": 1, \"questionType\": 1, \"questionId\": \"9_Exercise9\", \"failureMessage\": \"\", \"exceptionClass\": \"\", \"trace\": \"\"}}, \"*\")",
      "text/plain": [
       "<IPython.core.display.Javascript object>"
      ]
     },
     "metadata": {},
     "output_type": "display_data"
    },
    {
     "data": {
      "text/markdown": [
       "<span style=\"color:#33cc33\">Correct</span>"
      ],
      "text/plain": [
       "Correct"
      ]
     },
     "metadata": {},
     "output_type": "display_data"
    }
   ],
   "source": [
    "input = np.arange(1, 13, 1).reshape(3, 4)\n",
    "\n",
    "\n",
    "def question_9(input):\n",
    "    return np.count_nonzero(input > 5) # Numpy Function counting number of non-zero elements in the array\n",
    "    raise NotImplementedError\n",
    "\n",
    "\n",
    "q9_sol = question_9(input)\n",
    "q9.check()"
   ]
  },
  {
   "cell_type": "markdown",
   "metadata": {},
   "source": [
    "## **Q10**: Delete the second column from an array and insert the following new column in the same place."
   ]
  },
  {
   "cell_type": "code",
   "execution_count": 17,
   "metadata": {},
   "outputs": [
    {
     "data": {
      "application/javascript": "parent.postMessage({\"jupyterEvent\": \"custom.exercise_interaction\", \"data\": {\"outcomeType\": 1, \"valueTowardsCompletion\": 0.05, \"interactionType\": 1, \"questionType\": 1, \"questionId\": \"10_Exercise10\", \"failureMessage\": \"\", \"exceptionClass\": \"\", \"trace\": \"\"}}, \"*\")",
      "text/plain": [
       "<IPython.core.display.Javascript object>"
      ]
     },
     "metadata": {},
     "output_type": "display_data"
    },
    {
     "data": {
      "text/markdown": [
       "<span style=\"color:#33cc33\">Correct</span>"
      ],
      "text/plain": [
       "Correct"
      ]
     },
     "metadata": {},
     "output_type": "display_data"
    }
   ],
   "source": [
    "input = np.array([[34, 72, 33], [82, 22, 32], [59, 84, 10]])\n",
    "insert_data = np.array([[37, 37, 37]])\n",
    "\n",
    "\n",
    "def question_10(input, insert_data):\n",
    "    arr = np.delete(input, 1, axis = 1) # #name of array, index, wise\n",
    "    arr = np.insert(arr, 1, insert_data, axis = 1) # + arr needed to insert\n",
    "    return arr\n",
    "    raise NotImplementedError\n",
    "\n",
    "\n",
    "q10_sol = question_10(input, insert_data)\n",
    "q10.check()"
   ]
  },
  {
   "cell_type": "markdown",
   "metadata": {},
   "source": [
    "## **Q11**: Compute the Euclidean distance between each pair of consecutive points in a given 2D NumPy array and append the result as a new column.\n",
    "\n",
    "Euclidian distance between two points $(x_1, y_1)$ and $(x_2, y_2)$ is $\\sqrt{(x_2 - x_1)^2 + (y_2 - y_1)^2}$.  "
   ]
  },
  {
   "cell_type": "code",
   "execution_count": 51,
   "metadata": {},
   "outputs": [
    {
     "data": {
      "application/javascript": "parent.postMessage({\"jupyterEvent\": \"custom.exercise_interaction\", \"data\": {\"outcomeType\": 1, \"valueTowardsCompletion\": 0.05, \"interactionType\": 1, \"questionType\": 1, \"questionId\": \"11_Exercise11\", \"failureMessage\": \"\", \"exceptionClass\": \"\", \"trace\": \"\"}}, \"*\")",
      "text/plain": [
       "<IPython.core.display.Javascript object>"
      ]
     },
     "metadata": {},
     "output_type": "display_data"
    },
    {
     "data": {
      "text/markdown": [
       "<span style=\"color:#33cc33\">Correct</span>"
      ],
      "text/plain": [
       "Correct"
      ]
     },
     "metadata": {},
     "output_type": "display_data"
    }
   ],
   "source": [
    "input = np.array([[1, 2], [4, 6], [7, 8], [10, 10]])\n",
    "\n",
    "\n",
    "def question_11(input):\n",
    "    element = np.sum(np.diff(input, axis = 0) ** 2, axis = 1) # sum of each element of the formula, (x2 - x1) ^ 2 + (y2 - y1) ^ 2\n",
    "    dis = np.sqrt(element)\n",
    "    dis = np.append(dis, 0)\n",
    "    dis = dis[:, np.newaxis]\n",
    "    ans = np.hstack((input, dis))\n",
    "    return ans\n",
    "    raise NotImplementedError\n",
    "\n",
    "q11_sol = question_11(input)\n",
    "q11.check()"
   ]
  },
  {
   "cell_type": "markdown",
   "metadata": {},
   "source": [
    "## **Q12**: Remove consecutive duplicates from a NumPy array."
   ]
  },
  {
   "cell_type": "code",
   "execution_count": 24,
   "metadata": {},
   "outputs": [
    {
     "data": {
      "application/javascript": "parent.postMessage({\"jupyterEvent\": \"custom.exercise_interaction\", \"data\": {\"outcomeType\": 1, \"valueTowardsCompletion\": 0.05, \"interactionType\": 1, \"questionType\": 1, \"questionId\": \"12_Exercise12\", \"failureMessage\": \"\", \"exceptionClass\": \"\", \"trace\": \"\"}}, \"*\")",
      "text/plain": [
       "<IPython.core.display.Javascript object>"
      ]
     },
     "metadata": {},
     "output_type": "display_data"
    },
    {
     "data": {
      "text/markdown": [
       "<span style=\"color:#33cc33\">Correct</span>"
      ],
      "text/plain": [
       "Correct"
      ]
     },
     "metadata": {},
     "output_type": "display_data"
    }
   ],
   "source": [
    "input = np.array([[1, 1], [2, 1], [3, 3], [3, 3], [2, 1], [1, 1]])\n",
    "\n",
    "\n",
    "def question_12(input):\n",
    "    diff_arr = np.diff(input, axis = 0)\n",
    "    no_consecutive_arr = np.any(diff_arr,axis = 1)\n",
    "    mask = np.insert(no_consecutive_arr, 0, True)\n",
    "    return input[mask]\n",
    "    raise NotImplementedError\n",
    "\n",
    "\n",
    "q12_sol = question_12(input)\n",
    "q12.check()"
   ]
  },
  {
   "cell_type": "markdown",
   "metadata": {},
   "source": [
    "## **Q13**: Given a 2D NumPy array representing strokes, normalize all rows by subtracting the mean of each column and dividing by the standard deviation, but avoid division by zero.\n",
    "$X_{\\text{normalized}} = \\frac{X - \\mu}{\\sigma}$"
   ]
  },
  {
   "cell_type": "code",
   "execution_count": 25,
   "metadata": {},
   "outputs": [
    {
     "data": {
      "application/javascript": "parent.postMessage({\"jupyterEvent\": \"custom.exercise_interaction\", \"data\": {\"outcomeType\": 1, \"valueTowardsCompletion\": 0.05, \"interactionType\": 1, \"questionType\": 1, \"questionId\": \"13_Exercise13\", \"failureMessage\": \"\", \"exceptionClass\": \"\", \"trace\": \"\"}}, \"*\")",
      "text/plain": [
       "<IPython.core.display.Javascript object>"
      ]
     },
     "metadata": {},
     "output_type": "display_data"
    },
    {
     "data": {
      "text/markdown": [
       "<span style=\"color:#33cc33\">Correct</span>"
      ],
      "text/plain": [
       "Correct"
      ]
     },
     "metadata": {},
     "output_type": "display_data"
    }
   ],
   "source": [
    "input = np.array([[10, 20, 30], [15, 24, 33], [8, 18, 29], [14, 22, 32]])\n",
    "\n",
    "\n",
    "def question_13(input):\n",
    "    mean_arr = input.mean(axis = 0)\n",
    "    std_arr = input.std(axis = 0)\n",
    "    std_arr[std_arr == 0] = 1\n",
    "    return (input - mean_arr) / std_arr\n",
    "    raise NotImplementedError\n",
    "\n",
    "\n",
    "q13_sol = question_13(input)\n",
    "q13.check()"
   ]
  },
  {
   "cell_type": "markdown",
   "metadata": {},
   "source": [
    "## **Q14**: Delete the second column from an array and insert a new column at the same position where each value is the sum of its corresponding row."
   ]
  },
  {
   "cell_type": "code",
   "execution_count": 26,
   "metadata": {},
   "outputs": [
    {
     "data": {
      "application/javascript": "parent.postMessage({\"jupyterEvent\": \"custom.exercise_interaction\", \"data\": {\"outcomeType\": 1, \"valueTowardsCompletion\": 0.05, \"interactionType\": 1, \"questionType\": 1, \"questionId\": \"14_Exercise14\", \"failureMessage\": \"\", \"exceptionClass\": \"\", \"trace\": \"\"}}, \"*\")",
      "text/plain": [
       "<IPython.core.display.Javascript object>"
      ]
     },
     "metadata": {},
     "output_type": "display_data"
    },
    {
     "data": {
      "text/markdown": [
       "<span style=\"color:#33cc33\">Correct</span>"
      ],
      "text/plain": [
       "Correct"
      ]
     },
     "metadata": {},
     "output_type": "display_data"
    }
   ],
   "source": [
    "input = np.array([[1, 2, 3], [4, 5, 6], [7, 8, 9]])\n",
    "\n",
    "\n",
    "def question_14(input):\n",
    "    row_sum = np.sum(input, axis = 1)\n",
    "    new_column = row_sum[:, np.newaxis] # Turn this into column\n",
    "    input[:, 1 : 2] = new_column \n",
    "    return input\n",
    "    raise NotImplementedError\n",
    "\n",
    "\n",
    "q14_sol = question_14(input)\n",
    "q14.check()"
   ]
  },
  {
   "cell_type": "markdown",
   "metadata": {},
   "source": [
    "## **Q15**: Extract Unique Characters from a NumPy Array of Strings\n",
    "Given a 1D NumPy array of strings, extract all unique characters present in the array and sort by their ASCII values."
   ]
  },
  {
   "cell_type": "code",
   "execution_count": 29,
   "metadata": {},
   "outputs": [
    {
     "data": {
      "application/javascript": "parent.postMessage({\"jupyterEvent\": \"custom.exercise_interaction\", \"data\": {\"outcomeType\": 1, \"valueTowardsCompletion\": 0.05, \"interactionType\": 1, \"questionType\": 1, \"questionId\": \"15_Exercise15\", \"failureMessage\": \"\", \"exceptionClass\": \"\", \"trace\": \"\"}}, \"*\")",
      "text/plain": [
       "<IPython.core.display.Javascript object>"
      ]
     },
     "metadata": {},
     "output_type": "display_data"
    },
    {
     "data": {
      "text/markdown": [
       "<span style=\"color:#33cc33\">Correct</span>"
      ],
      "text/plain": [
       "Correct"
      ]
     },
     "metadata": {},
     "output_type": "display_data"
    }
   ],
   "source": [
    "input = np.array([\"hello\", \"world\", \"numpy\", \"rocks\"])\n",
    "\n",
    "\n",
    "def question_15(input):\n",
    "    word_list = \"\".join(input)\n",
    "    unique_character = set(sorted(word_list))\n",
    "    return unique_character\n",
    "    raise NotImplementedError\n",
    "\n",
    "\n",
    "q15_sol = question_15(input)\n",
    "q15.check()"
   ]
  },
  {
   "cell_type": "markdown",
   "metadata": {},
   "source": [
    "## **Q16**: Generate a dictionary that maps each unique character to a unique index starting with 0, sorted by ascending ASCII value."
   ]
  },
  {
   "cell_type": "code",
   "execution_count": 33,
   "metadata": {},
   "outputs": [
    {
     "data": {
      "application/javascript": "parent.postMessage({\"jupyterEvent\": \"custom.exercise_interaction\", \"data\": {\"outcomeType\": 1, \"valueTowardsCompletion\": 0.05, \"interactionType\": 1, \"questionType\": 1, \"questionId\": \"16_Exercise16\", \"failureMessage\": \"\", \"exceptionClass\": \"\", \"trace\": \"\"}}, \"*\")",
      "text/plain": [
       "<IPython.core.display.Javascript object>"
      ]
     },
     "metadata": {},
     "output_type": "display_data"
    },
    {
     "data": {
      "text/markdown": [
       "<span style=\"color:#33cc33\">Correct</span>"
      ],
      "text/plain": [
       "Correct"
      ]
     },
     "metadata": {},
     "output_type": "display_data"
    }
   ],
   "source": [
    "input = np.array([\"a\", \"b\", \"c\", \"d\", \"a\", \"c\", \"e\"])\n",
    "\n",
    "\n",
    "def question_16(input):\n",
    "    unique_character = sorted(set(input))\n",
    "    char_list = {char : i for i, char in enumerate(unique_character)}\n",
    "    return char_list\n",
    "    raise NotImplementedError\n",
    "\n",
    "\n",
    "q16_sol = question_16(input)\n",
    "q16.check()"
   ]
  },
  {
   "cell_type": "markdown",
   "metadata": {},
   "source": [
    "## **Q17**: Convert a List of 2D traces into a Single NumPy Array\n",
    "Given a list of 2D traces (each being a NumPy array of shape `(N, 2)`), stack them into a single NumPy array."
   ]
  },
  {
   "cell_type": "code",
   "execution_count": 34,
   "metadata": {},
   "outputs": [
    {
     "data": {
      "application/javascript": "parent.postMessage({\"jupyterEvent\": \"custom.exercise_interaction\", \"data\": {\"outcomeType\": 1, \"valueTowardsCompletion\": 0.05, \"interactionType\": 1, \"questionType\": 1, \"questionId\": \"17_Exercise17\", \"failureMessage\": \"\", \"exceptionClass\": \"\", \"trace\": \"\"}}, \"*\")",
      "text/plain": [
       "<IPython.core.display.Javascript object>"
      ]
     },
     "metadata": {},
     "output_type": "display_data"
    },
    {
     "data": {
      "text/markdown": [
       "<span style=\"color:#33cc33\">Correct</span>"
      ],
      "text/plain": [
       "Correct"
      ]
     },
     "metadata": {},
     "output_type": "display_data"
    }
   ],
   "source": [
    "input = [np.array([[1, 2], [3, 4]]), np.array([[5, 6], [7, 8], [9, 10]])]\n",
    "\n",
    "\n",
    "def question_17(input):\n",
    "    return np.vstack(input)\n",
    "    raise NotImplementedError\n",
    "\n",
    "\n",
    "q17_sol = question_17(input)\n",
    "q17.check()"
   ]
  },
  {
   "cell_type": "markdown",
   "metadata": {},
   "source": [
    "## **Q18**: Convert a List of Text Labels into a NumPy Array of Integer Encodings\n",
    "Given a vocabulary dictionary and a string of space-separated labels, convert the text into a NumPy array of indices."
   ]
  },
  {
   "cell_type": "code",
   "execution_count": 35,
   "metadata": {},
   "outputs": [
    {
     "data": {
      "application/javascript": "parent.postMessage({\"jupyterEvent\": \"custom.exercise_interaction\", \"data\": {\"outcomeType\": 1, \"valueTowardsCompletion\": 0.05, \"interactionType\": 1, \"questionType\": 1, \"questionId\": \"18_Exercise18\", \"failureMessage\": \"\", \"exceptionClass\": \"\", \"trace\": \"\"}}, \"*\")",
      "text/plain": [
       "<IPython.core.display.Javascript object>"
      ]
     },
     "metadata": {},
     "output_type": "display_data"
    },
    {
     "data": {
      "text/markdown": [
       "<span style=\"color:#33cc33\">Correct</span>"
      ],
      "text/plain": [
       "Correct"
      ]
     },
     "metadata": {},
     "output_type": "display_data"
    }
   ],
   "source": [
    "input = {\n",
    "    \"hello\": 0,\n",
    "    \"numpy\": 1,\n",
    "    \"rocks\": 2,\n",
    "    \"world\": 3,\n",
    "    \"python\": 4,\n",
    "    \"data\": 5,\n",
    "    \"science\": 6,\n",
    "}\n",
    "\n",
    "labels = \"hello rocks\"\n",
    "\n",
    "\n",
    "\n",
    "def question_18(input, labels):\n",
    "    string_arr = labels.split()\n",
    "    number_convert = np.array([input[string] for string in string_arr])\n",
    "    return number_convert\n",
    "    raise NotImplementedError\n",
    "\n",
    "\n",
    "q18_sol = question_18(input, labels)\n",
    "q18.check()"
   ]
  },
  {
   "cell_type": "markdown",
   "metadata": {},
   "source": [
    "## **Q19**: Extract Non-Zero Differences from an Array\n",
    "Given a NumPy array of first-order differences, extract only non-zero differences using masking."
   ]
  },
  {
   "cell_type": "code",
   "execution_count": 36,
   "metadata": {},
   "outputs": [
    {
     "data": {
      "application/javascript": "parent.postMessage({\"jupyterEvent\": \"custom.exercise_interaction\", \"data\": {\"outcomeType\": 1, \"valueTowardsCompletion\": 0.05, \"interactionType\": 1, \"questionType\": 1, \"questionId\": \"19_Exercise19\", \"failureMessage\": \"\", \"exceptionClass\": \"\", \"trace\": \"\"}}, \"*\")",
      "text/plain": [
       "<IPython.core.display.Javascript object>"
      ]
     },
     "metadata": {},
     "output_type": "display_data"
    },
    {
     "data": {
      "text/markdown": [
       "<span style=\"color:#33cc33\">Correct</span>"
      ],
      "text/plain": [
       "Correct"
      ]
     },
     "metadata": {},
     "output_type": "display_data"
    }
   ],
   "source": [
    "input = np.array([[3, 4], [0, 0], [-2, 1]])\n",
    "\n",
    "\n",
    "def question_19(input):\n",
    "    diff_arr = np.diff(input, axis = 1)\n",
    "    no_diff = np.any(diff_arr, axis = 1)\n",
    "    return input[no_diff]\n",
    "    raise NotImplementedError\n",
    "\n",
    "\n",
    "q19_sol = question_19(input)\n",
    "q19.check()"
   ]
  },
  {
   "cell_type": "markdown",
   "metadata": {},
   "source": [
    "## **Q20**: Time Series Data Transformation and Feature Engineering\n",
    "\n",
    "### *Problem Statement:*  \n",
    "You are given a time series dataset representing sensor readings from multiple devices. Each row consists of sensor values at a specific timestamp. Your task is to preprocess and extract meaningful features from the dataset by performing the following transformations:\n",
    "\n",
    "### *Steps to Follow:*\n",
    "1. Normalize Each Sensor Reading  \n",
    "- Subtract the mean and divide by the standard deviation for each column.  \n",
    "- Avoid division by zero by replacing std=0 with 1.  \n",
    "2. Detect and Mask Anomalous Values\n",
    "- If a sensor reading is more than 2.5 standard deviations away from the mean, replace it with NaN.\n",
    "3. Interpolate Missing Values (NaN Handling)\n",
    "- Fill NaN values with the average of the nearest non-NaN neighbors.\n",
    "4. Extract First-Order Differences\n",
    "- Compute the difference between consecutive time steps for each sensor.\n",
    "5. Add a Binary Column for Missing Data\n",
    "- Stack All Features into a Final Matrix\n",
    "Create a new column `missing_flag` that is `1` where original data was `NaN`, otherwise `0`.\n",
    "6. Stack All Features into a Final Matrix\n",
    "- The final dataset should have normalized values, moving averages, first-order differences, and the missing flag."
   ]
  },
  {
   "cell_type": "code",
   "execution_count": 40,
   "metadata": {},
   "outputs": [
    {
     "data": {
      "application/javascript": "parent.postMessage({\"jupyterEvent\": \"custom.exercise_interaction\", \"data\": {\"outcomeType\": 1, \"valueTowardsCompletion\": 0.05, \"interactionType\": 1, \"questionType\": 1, \"questionId\": \"20_Exercise20\", \"failureMessage\": \"\", \"exceptionClass\": \"\", \"trace\": \"\"}}, \"*\")",
      "text/plain": [
       "<IPython.core.display.Javascript object>"
      ]
     },
     "metadata": {},
     "output_type": "display_data"
    },
    {
     "data": {
      "text/markdown": [
       "<span style=\"color:#33cc33\">Correct</span>"
      ],
      "text/plain": [
       "Correct"
      ]
     },
     "metadata": {},
     "output_type": "display_data"
    }
   ],
   "source": [
    "input = np.array(\n",
    "    [\n",
    "        [1.0, 10.0, 100.0],\n",
    "        [2.0, 20.0, 200.0],\n",
    "        [3.0, 30.0, 10000.0],  # Outlier in third column\n",
    "        [4.0, 40.0, 400.0],\n",
    "        [5.0, 50.0, 500.0],\n",
    "    ]\n",
    ")\n",
    "def question_20(input):\n",
    "# 1. Normalize Each Sensor Reading\n",
    "    mean_result = np.mean(input, axis = 0)\n",
    "    std_result = np.std(input, axis = 0)\n",
    "    std_result[std_result == 0] == 1\n",
    "    normal = (input - mean_result) / std_result\n",
    "\n",
    "# 2. Detect and Mask Anomalous Values\n",
    "    ano_mask = np.abs(normal) > 2.5\n",
    "    ano_input = input.copy()\n",
    "    ano_input[ano_mask] = np.nan\n",
    "    # ano_values = input[ano_mask] = np.nan\n",
    "    # input\n",
    "# 3. NaN Handling\n",
    "    interpolated_data = np.where(np.isnan(ano_input), np.nanmean(ano_input, axis=0), ano_input)\n",
    "\n",
    "# 4. Extract First-Order Difference\n",
    "    time_diff = np.diff(interpolated_data, axis = 0)\n",
    "    time_diff_padded = np.vstack((time_diff, np.zeros((1, time_diff.shape[1]))))\n",
    "\n",
    "# 5. Add a Binary Column for Missing Data\n",
    "    missing_flag = np.isnan(ano_input).astype(int)\n",
    "\n",
    "#6. Final Matrix\n",
    "    final_matrix = np.hstack([interpolated_data, time_diff_padded, missing_flag])\n",
    "    return final_matrix   \n",
    "    raise NotImplementedError\n",
    "\n",
    "\n",
    "q20_sol = question_20(input)\n",
    "q20.check()"
   ]
  }
 ],
 "metadata": {
  "kernelspec": {
   "display_name": "Python 3",
   "language": "python",
   "name": "python3"
  },
  "language_info": {
   "codemirror_mode": {
    "name": "ipython",
    "version": 3
   },
   "file_extension": ".py",
   "mimetype": "text/x-python",
   "name": "python",
   "nbconvert_exporter": "python",
   "pygments_lexer": "ipython3",
   "version": "3.12.1"
  }
 },
 "nbformat": 4,
 "nbformat_minor": 2
}
